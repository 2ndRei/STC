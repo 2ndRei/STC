{
 "cells": [
  {
   "cell_type": "code",
   "execution_count": 1,
   "metadata": {
    "collapsed": true
   },
   "outputs": [],
   "source": [
    "import os\n",
    "from os import path\n",
    "import numpy as np\n",
    "import pandas as pd\n",
    "from scipy.io import wavfile"
   ]
  },
  {
   "cell_type": "code",
   "execution_count": 2,
   "metadata": {
    "collapsed": true
   },
   "outputs": [],
   "source": [
    "from sklearn.svm import SVC\n",
    "from sklearn.ensemble import RandomForestClassifier\n",
    "from sklearn.ensemble import GradientBoostingClassifier\n",
    "\n",
    "from sklearn.multiclass import OneVsRestClassifier\n",
    "\n",
    "from sklearn.preprocessing import StandardScaler\n",
    "from sklearn.metrics import confusion_matrix, accuracy_score"
   ]
  },
  {
   "cell_type": "code",
   "execution_count": 3,
   "metadata": {
    "collapsed": true
   },
   "outputs": [],
   "source": [
    "DATASET_PATH = '.\\data_v_7_stc'\n",
    "FS = 16000"
   ]
  },
  {
   "cell_type": "code",
   "execution_count": 4,
   "metadata": {
    "collapsed": true
   },
   "outputs": [],
   "source": [
    "TRAIN_DIR = path.join(DATASET_PATH, 'audio')\n",
    "train_file = [f for f in os.listdir(TRAIN_DIR) if path.isfile(path.join(TRAIN_DIR, f))]\n",
    "train_wave = [w for w in train_file if w[-4:] == '.wav']\n",
    "#train_wave[0], len(train_wave)"
   ]
  },
  {
   "cell_type": "code",
   "execution_count": 5,
   "metadata": {
    "collapsed": true
   },
   "outputs": [],
   "source": [
    "TEST_DIR = path.join(DATASET_PATH, 'test')\n",
    "test_file = [f for f in os.listdir(TEST_DIR) if path.isfile(path.join(TEST_DIR, f))]\n",
    "test_wave = [w for w in test_file if w[-4:] == '.wav']\n",
    "\n",
    "test_tag_split = [(f.split('_'))[:-1] for f in test_wave]\n",
    "test_tag_list = [ [tag for tag in tag_split if tag != 't'] for tag_split in test_tag_split]\n",
    "test_tag = ['_'.join(tag_list) for tag_list in test_tag_list]\n",
    "#test_wave[223], test_tag[223]"
   ]
  },
  {
   "cell_type": "code",
   "execution_count": 6,
   "metadata": {
    "collapsed": true
   },
   "outputs": [],
   "source": [
    "df = pd.read_csv(path.join(DATASET_PATH, 'meta/meta.txt'), sep='\\t', names=['File', '_', '__', 'Duration', 'Class'])\n",
    "df.drop(['_', '__'], axis=1, inplace=True)\n",
    "#df.head()"
   ]
  },
  {
   "cell_type": "code",
   "execution_count": 7,
   "metadata": {
    "collapsed": true
   },
   "outputs": [],
   "source": [
    "df_test = pd.DataFrame(np.concatenate((test_wave, test_tag)).reshape(-1, 2, order='F'), columns=['File', 'Class'])\n",
    "#df_test.head()"
   ]
  },
  {
   "cell_type": "code",
   "execution_count": 8,
   "metadata": {
    "collapsed": true
   },
   "outputs": [],
   "source": [
    "tags = np.unique(test_tag)\n",
    "d_class = dict(zip(tags, range(tags.shape[0])))\n",
    "d_class_inv = {val:key for key, val in d_class.items()}"
   ]
  },
  {
   "cell_type": "code",
   "execution_count": null,
   "metadata": {
    "collapsed": true
   },
   "outputs": [],
   "source": []
  },
  {
   "cell_type": "code",
   "execution_count": 9,
   "metadata": {
    "collapsed": true
   },
   "outputs": [],
   "source": [
    "def scaler(data, maximum=2**15 - 1):\n",
    "    scale = maximum / max(abs(data))\n",
    "    return np.array(data*scale, dtype=data.dtype)"
   ]
  },
  {
   "cell_type": "code",
   "execution_count": 10,
   "metadata": {
    "collapsed": true
   },
   "outputs": [],
   "source": [
    "def std_average(data, window):\n",
    "    N = data.shape[0]\n",
    "    W = int(window)\n",
    "    HW = int(window // 2)\n",
    "    if (N <= W):\n",
    "        return np.array([data.mean()], dtype=data.dtype)\n",
    "    \n",
    "    data_std  = np.zeros(int((2*(N//W + 1)),), dtype=data.dtype)\n",
    "    \n",
    "    data_std[0] = data[:HW].std()\n",
    "    for i in range(data_std.shape[0] - 2):\n",
    "        data_std[i+1] = data[i*HW:(i+2)*HW].std()\n",
    "    data_std[-1] = data[-HW:].std()\n",
    "\n",
    "    return data_std"
   ]
  },
  {
   "cell_type": "code",
   "execution_count": 11,
   "metadata": {
    "collapsed": true
   },
   "outputs": [],
   "source": [
    "def signal_detector(data, window, min_duration_frame, scale=10):\n",
    "    data_std = std_average(data, window)\n",
    "    \n",
    "    std_filter = np.zeros(data_std.shape, dtype='bool')\n",
    "    std_filter[data_std > max(data_std)/scale] = True\n",
    "       \n",
    "    while (all(std_filter)):\n",
    "        scale /= 2\n",
    "        std_filter = np.zeros(data_std.shape, dtype='bool')\n",
    "        std_filter[data_std > max(data_std)/scale] = True\n",
    "        \n",
    "    if (not any(std_filter)):\n",
    "        return []\n",
    "    \n",
    "    HW = window//2\n",
    "    signal_frame = []\n",
    "    front = np.argwhere(std_filter).reshape(-1,)[0]\n",
    "    back = 0\n",
    "    is_signal = std_filter[0]\n",
    "    signal_duration = 0\n",
    "    silence_duration = 0\n",
    "    for i, flag in enumerate(std_filter):\n",
    "        if (flag and not is_signal):\n",
    "            silence_duration = (i - back + 1)*HW\n",
    "            is_signal = True\n",
    "            if (silence_duration > min_duration_frame):\n",
    "                if (signal_duration >= min_duration_frame):\n",
    "                    signal_frame.append((max(0,             (front-1)*HW),\n",
    "                                         min(data.shape[0], (back   )*HW)))\n",
    "                front = i     \n",
    "        if (not flag and is_signal):\n",
    "            back = i\n",
    "            is_signal = False\n",
    "            signal_duration = (back - front + 1)*HW\n",
    "            \n",
    "    if (std_filter[-1]):\n",
    "        signal_frame.append((max(0,(front-1)*HW), data.shape[0]))\n",
    "    else:\n",
    "        signal_frame.append((max(0,             (front-1)*HW),\n",
    "                             min(data.shape[0], (back   )*HW)))     \n",
    "    \n",
    "    return signal_frame"
   ]
  },
  {
   "cell_type": "code",
   "execution_count": null,
   "metadata": {
    "collapsed": true
   },
   "outputs": [],
   "source": []
  },
  {
   "cell_type": "code",
   "execution_count": 12,
   "metadata": {
    "collapsed": true
   },
   "outputs": [],
   "source": [
    "def oscilogram_feature(data_scaled, signal_part):\n",
    "    if (len(signal_part) == 0):\n",
    "        return np.std(data_scaled), np.median(data_scaled**2), 1, 0\n",
    "    \n",
    "    N = data_scaled.shape[0]\n",
    "    signal_data = np.ndarray((0,))\n",
    "    signal_duration = 0\n",
    "    for front, back in signal_part:\n",
    "        signal_data = np.concatenate((signal_data, data_scaled[front:back]))\n",
    "        signal_duration += back - front\n",
    "    std_median = np.std(signal_data)\n",
    "    power_median = np.median(signal_data**2)\n",
    "    ratio = signal_duration / N\n",
    "    part_count = len(signal_part)\n",
    "    return std_median, power_median, ratio, part_count"
   ]
  },
  {
   "cell_type": "code",
   "execution_count": 13,
   "metadata": {
    "collapsed": true
   },
   "outputs": [],
   "source": [
    "for column in ('std_median', 'power_median', 'ratio', 'part_count'):\n",
    "    df[column] = 0\n",
    "    df_test[column] = 0\n",
    "#df.head()"
   ]
  },
  {
   "cell_type": "code",
   "execution_count": 14,
   "metadata": {
    "collapsed": true
   },
   "outputs": [],
   "source": [
    "def populate(DIR, file_name):\n",
    "    fs, data = wavfile.read(path.join(DIR, file_name))\n",
    "    data_scaled = scaler(data)\n",
    "    signal_part = signal_detector(data_scaled, fs//10, fs//10, 10)\n",
    "    std_median, power_median, ratio, part_count = oscilogram_feature(data_scaled, signal_part)\n",
    "    return pd.Series([std_median, power_median, ratio, part_count], index=['std_median', 'power_median', 'ratio', 'part_count'])"
   ]
  },
  {
   "cell_type": "code",
   "execution_count": 15,
   "metadata": {
    "collapsed": true
   },
   "outputs": [],
   "source": [
    "df.loc[:, ['std_median', 'power_median', 'ratio', 'part_count']] = \\\n",
    "    df.apply(lambda row: populate(TRAIN_DIR, row['File']), axis=1)"
   ]
  },
  {
   "cell_type": "code",
   "execution_count": 16,
   "metadata": {
    "collapsed": true
   },
   "outputs": [],
   "source": [
    "df_test.loc[:, ['std_median', 'power_median', 'ratio', 'part_count']] = \\\n",
    "    df_test.apply(lambda row: populate(TEST_DIR, row['File']), axis=1)"
   ]
  },
  {
   "cell_type": "code",
   "execution_count": null,
   "metadata": {
    "collapsed": true
   },
   "outputs": [],
   "source": []
  },
  {
   "cell_type": "code",
   "execution_count": 17,
   "metadata": {
    "collapsed": true
   },
   "outputs": [],
   "source": [
    "def moving_average(data, window):\n",
    "    s = pd.Series(data).rolling(window=window).mean()\n",
    "    s = s.shift(-window//2).dropna().tolist()\n",
    "    return s[:1]*(window//2) + s + s[-1:]*(window//2 - 1)\n",
    "\n",
    "def exponential_smoothing(data, alpha):\n",
    "    result = [data[0]] # first value is same as series\n",
    "    for n in range(1, len(data)):\n",
    "        result.append(alpha * data[n] + (1 - alpha) * result[n-1])\n",
    "    return result"
   ]
  },
  {
   "cell_type": "code",
   "execution_count": 18,
   "metadata": {
    "collapsed": true
   },
   "outputs": [],
   "source": [
    "def fft(data, fs, func_avr=None, *param):\n",
    "    data = np.array(data)\n",
    "    if (data.shape[0] % fs != 0):\n",
    "        data = np.concatenate((data, np.zeros((fs - data.shape[0] % fs, ) , dtype=data.dtype)), axis=0)\n",
    "    \n",
    "    N = data.shape[0]\n",
    "    fn = fs//2  \n",
    "    n = N//2\n",
    "    \n",
    "    X = np.fft.fft(data) / (N / 2.0)\n",
    "    mag = np.abs(X / abs(X).max())[:n]\n",
    "    X_db = 20*np.log10(mag)\n",
    "    freq = np.fft.fftfreq(N, 1/fs)[:n]\n",
    "\n",
    "    spec = X_db.reshape(fn, -1).mean(axis=1)\n",
    "    if (func_avr is not None):\n",
    "        spec = np.array(func_avr(spec, *param))\n",
    "    \n",
    "    return (spec, list(range(1, fn + 1)))"
   ]
  },
  {
   "cell_type": "code",
   "execution_count": 19,
   "metadata": {
    "collapsed": true
   },
   "outputs": [],
   "source": [
    "def spectrum_feature(data, fs, signal_part):\n",
    "    if (len(signal_part) == 0):\n",
    "        window = np.hanning(data.shape[0])\n",
    "        return fft(window*data, fs, moving_average, fs//100)\n",
    "\n",
    "    N = data.shape[0]\n",
    "    signal_data = np.ndarray((0,))\n",
    "    for front, back in signal_part:\n",
    "        window = np.hanning(back - front)\n",
    "        signal_data = np.concatenate((signal_data, window*data[front:back]))\n",
    "\n",
    "    return fft(signal_data, fs, moving_average, fs//100)"
   ]
  },
  {
   "cell_type": "code",
   "execution_count": 20,
   "metadata": {
    "collapsed": true
   },
   "outputs": [],
   "source": [
    "def process(DIR, file_name):\n",
    "    #print(file_name)\n",
    "    fs, data = wavfile.read(path.join(DIR, file_name))\n",
    "    data_scaled = scaler(data)\n",
    "    signal_part = signal_detector(data_scaled, fs//10, fs//10, 10)\n",
    "    spec, freq = spectrum_feature(data_scaled, fs, signal_part)\n",
    "    return pd.Series(spec)"
   ]
  },
  {
   "cell_type": "code",
   "execution_count": 21,
   "metadata": {
    "collapsed": true
   },
   "outputs": [],
   "source": [
    "df_spec = pd.concat([df, pd.DataFrame(np.zeros((df.shape[0], FS//2)))], axis=1)\n",
    "#df_spec.head()"
   ]
  },
  {
   "cell_type": "code",
   "execution_count": 22,
   "metadata": {
    "collapsed": true
   },
   "outputs": [],
   "source": [
    "df_test_spec = pd.concat([df_test, pd.DataFrame(np.zeros((df_test.shape[0], FS//2)))], axis=1)\n",
    "#df_test_spec.head()"
   ]
  },
  {
   "cell_type": "code",
   "execution_count": 23,
   "metadata": {
    "collapsed": true
   },
   "outputs": [],
   "source": [
    "df_spec.iloc[:, -(FS//2):] = df_spec.apply(lambda row: process(TRAIN_DIR, row['File']), axis=1)"
   ]
  },
  {
   "cell_type": "code",
   "execution_count": 24,
   "metadata": {
    "collapsed": true
   },
   "outputs": [],
   "source": [
    "df_test_spec.iloc[:, -(FS//2):] = df_test_spec.apply(lambda row: process(TEST_DIR, row['File']), axis=1)"
   ]
  },
  {
   "cell_type": "code",
   "execution_count": null,
   "metadata": {
    "collapsed": true
   },
   "outputs": [],
   "source": []
  },
  {
   "cell_type": "code",
   "execution_count": 25,
   "metadata": {
    "collapsed": true
   },
   "outputs": [],
   "source": [
    "X = df_spec.iloc[:,-(FS//2 + 4):].values\n",
    "y = df_spec['Class'].map(d_class).values\n",
    "\n",
    "test_close_index = (df_test_spec['Class'] != 'unknown')\n",
    "\n",
    "X_test_open = df_test_spec.iloc[:,-(FS//2 + 4):].values\n",
    "y_test_open = df_test_spec['Class'].map(d_class).values\n",
    "y_test_close = y_test_open[test_close_index]\n",
    "\n",
    "data_scaler = StandardScaler()\n",
    "X_scaled = data_scaler.fit_transform(X)\n",
    "X_test_open_scaled = data_scaler.transform(X_test_open)"
   ]
  },
  {
   "cell_type": "code",
   "execution_count": 26,
   "metadata": {
    "scrolled": true
   },
   "outputs": [
    {
     "name": "stdout",
     "output_type": "stream",
     "text": [
      "0.799154334038\n"
     ]
    },
    {
     "data": {
      "text/html": [
       "<div>\n",
       "<style>\n",
       "    .dataframe thead tr:only-child th {\n",
       "        text-align: right;\n",
       "    }\n",
       "\n",
       "    .dataframe thead th {\n",
       "        text-align: left;\n",
       "    }\n",
       "\n",
       "    .dataframe tbody tr th {\n",
       "        vertical-align: top;\n",
       "    }\n",
       "</style>\n",
       "<table border=\"1\" class=\"dataframe\">\n",
       "  <thead>\n",
       "    <tr style=\"text-align: right;\">\n",
       "      <th></th>\n",
       "      <th>back</th>\n",
       "      <th>bags</th>\n",
       "      <th>door</th>\n",
       "      <th>keyb</th>\n",
       "      <th>knoc</th>\n",
       "      <th>ring</th>\n",
       "      <th>spee</th>\n",
       "      <th>tool</th>\n",
       "    </tr>\n",
       "  </thead>\n",
       "  <tbody>\n",
       "    <tr>\n",
       "      <th>background</th>\n",
       "      <td>25.00</td>\n",
       "      <td>0.0</td>\n",
       "      <td>3.00</td>\n",
       "      <td>1.00</td>\n",
       "      <td>3.00</td>\n",
       "      <td>0.00</td>\n",
       "      <td>7.00</td>\n",
       "      <td>0.0</td>\n",
       "    </tr>\n",
       "    <tr>\n",
       "      <th>bags</th>\n",
       "      <td>0.00</td>\n",
       "      <td>40.0</td>\n",
       "      <td>6.00</td>\n",
       "      <td>4.00</td>\n",
       "      <td>0.00</td>\n",
       "      <td>0.00</td>\n",
       "      <td>0.00</td>\n",
       "      <td>0.0</td>\n",
       "    </tr>\n",
       "    <tr>\n",
       "      <th>door</th>\n",
       "      <td>0.00</td>\n",
       "      <td>7.0</td>\n",
       "      <td>34.00</td>\n",
       "      <td>3.00</td>\n",
       "      <td>6.00</td>\n",
       "      <td>0.00</td>\n",
       "      <td>4.00</td>\n",
       "      <td>0.0</td>\n",
       "    </tr>\n",
       "    <tr>\n",
       "      <th>keyboard</th>\n",
       "      <td>1.00</td>\n",
       "      <td>1.0</td>\n",
       "      <td>2.00</td>\n",
       "      <td>24.00</td>\n",
       "      <td>0.00</td>\n",
       "      <td>0.00</td>\n",
       "      <td>0.00</td>\n",
       "      <td>0.0</td>\n",
       "    </tr>\n",
       "    <tr>\n",
       "      <th>knocking_door</th>\n",
       "      <td>1.00</td>\n",
       "      <td>0.0</td>\n",
       "      <td>0.00</td>\n",
       "      <td>0.00</td>\n",
       "      <td>49.00</td>\n",
       "      <td>0.00</td>\n",
       "      <td>3.00</td>\n",
       "      <td>0.0</td>\n",
       "    </tr>\n",
       "    <tr>\n",
       "      <th>ring</th>\n",
       "      <td>0.00</td>\n",
       "      <td>0.0</td>\n",
       "      <td>0.00</td>\n",
       "      <td>0.00</td>\n",
       "      <td>0.00</td>\n",
       "      <td>71.00</td>\n",
       "      <td>0.00</td>\n",
       "      <td>0.0</td>\n",
       "    </tr>\n",
       "    <tr>\n",
       "      <th>speech</th>\n",
       "      <td>0.00</td>\n",
       "      <td>0.0</td>\n",
       "      <td>0.00</td>\n",
       "      <td>0.00</td>\n",
       "      <td>0.00</td>\n",
       "      <td>0.00</td>\n",
       "      <td>121.00</td>\n",
       "      <td>0.0</td>\n",
       "    </tr>\n",
       "    <tr>\n",
       "      <th>tool</th>\n",
       "      <td>14.00</td>\n",
       "      <td>2.0</td>\n",
       "      <td>4.00</td>\n",
       "      <td>15.00</td>\n",
       "      <td>1.00</td>\n",
       "      <td>1.00</td>\n",
       "      <td>6.00</td>\n",
       "      <td>14.0</td>\n",
       "    </tr>\n",
       "    <tr>\n",
       "      <th>Total</th>\n",
       "      <td>41.00</td>\n",
       "      <td>50.0</td>\n",
       "      <td>49.00</td>\n",
       "      <td>47.00</td>\n",
       "      <td>59.00</td>\n",
       "      <td>72.00</td>\n",
       "      <td>141.00</td>\n",
       "      <td>14.0</td>\n",
       "    </tr>\n",
       "    <tr>\n",
       "      <th>Recall</th>\n",
       "      <td>0.61</td>\n",
       "      <td>0.8</td>\n",
       "      <td>0.69</td>\n",
       "      <td>0.51</td>\n",
       "      <td>0.83</td>\n",
       "      <td>0.99</td>\n",
       "      <td>0.86</td>\n",
       "      <td>1.0</td>\n",
       "    </tr>\n",
       "  </tbody>\n",
       "</table>\n",
       "</div>"
      ],
      "text/plain": [
       "                back  bags   door   keyb   knoc   ring    spee  tool\n",
       "background     25.00   0.0   3.00   1.00   3.00   0.00    7.00   0.0\n",
       "bags            0.00  40.0   6.00   4.00   0.00   0.00    0.00   0.0\n",
       "door            0.00   7.0  34.00   3.00   6.00   0.00    4.00   0.0\n",
       "keyboard        1.00   1.0   2.00  24.00   0.00   0.00    0.00   0.0\n",
       "knocking_door   1.00   0.0   0.00   0.00  49.00   0.00    3.00   0.0\n",
       "ring            0.00   0.0   0.00   0.00   0.00  71.00    0.00   0.0\n",
       "speech          0.00   0.0   0.00   0.00   0.00   0.00  121.00   0.0\n",
       "tool           14.00   2.0   4.00  15.00   1.00   1.00    6.00  14.0\n",
       "Total          41.00  50.0  49.00  47.00  59.00  72.00  141.00  14.0\n",
       "Recall          0.61   0.8   0.69   0.51   0.83   0.99    0.86   1.0"
      ]
     },
     "execution_count": 26,
     "metadata": {},
     "output_type": "execute_result"
    }
   ],
   "source": [
    "rfc = OneVsRestClassifier(RandomForestClassifier(n_estimators=100, random_state=17, n_jobs=-1))\n",
    "rfc.fit(X, y)\n",
    "rfc_cls_open = rfc.predict(X_test_open)\n",
    "rfc_proba_open = rfc.predict_proba(X_test_open)\n",
    "\n",
    "rfc_cls_close = rfc_cls_open[test_close_index]\n",
    "rfc_proba_close = rfc_proba_open[test_close_index]\n",
    "\n",
    "print(accuracy_score(y_test_close, rfc_cls_close))\n",
    "rfc_cfm = confusion_matrix(rfc_cls_close, y_test_close)\n",
    "pd.DataFrame(np.vstack((rfc_cfm, rfc_cfm.sum(axis=0),\n",
    "                        [round(rfc_cfm[i, i] / rfc_cfm.sum(axis=0)[i], ndigits=2) for i in range(rfc_cfm.shape[0])])),\n",
    "             index=list(d_class.keys())[:-1] + ['Total', 'Recall'],\n",
    "             columns=[str[:4] for str in list(d_class.keys())[:-1]])"
   ]
  },
  {
   "cell_type": "code",
   "execution_count": 27,
   "metadata": {},
   "outputs": [
    {
     "name": "stdout",
     "output_type": "stream",
     "text": [
      "0.832980972516\n"
     ]
    },
    {
     "data": {
      "text/html": [
       "<div>\n",
       "<style>\n",
       "    .dataframe thead tr:only-child th {\n",
       "        text-align: right;\n",
       "    }\n",
       "\n",
       "    .dataframe thead th {\n",
       "        text-align: left;\n",
       "    }\n",
       "\n",
       "    .dataframe tbody tr th {\n",
       "        vertical-align: top;\n",
       "    }\n",
       "</style>\n",
       "<table border=\"1\" class=\"dataframe\">\n",
       "  <thead>\n",
       "    <tr style=\"text-align: right;\">\n",
       "      <th></th>\n",
       "      <th>back</th>\n",
       "      <th>bags</th>\n",
       "      <th>door</th>\n",
       "      <th>keyb</th>\n",
       "      <th>knoc</th>\n",
       "      <th>ring</th>\n",
       "      <th>spee</th>\n",
       "      <th>tool</th>\n",
       "    </tr>\n",
       "  </thead>\n",
       "  <tbody>\n",
       "    <tr>\n",
       "      <th>background</th>\n",
       "      <td>39.00</td>\n",
       "      <td>0.00</td>\n",
       "      <td>4.00</td>\n",
       "      <td>0.00</td>\n",
       "      <td>4.00</td>\n",
       "      <td>4.00</td>\n",
       "      <td>5.00</td>\n",
       "      <td>0.00</td>\n",
       "    </tr>\n",
       "    <tr>\n",
       "      <th>bags</th>\n",
       "      <td>0.00</td>\n",
       "      <td>49.00</td>\n",
       "      <td>4.00</td>\n",
       "      <td>4.00</td>\n",
       "      <td>0.00</td>\n",
       "      <td>0.00</td>\n",
       "      <td>0.00</td>\n",
       "      <td>0.00</td>\n",
       "    </tr>\n",
       "    <tr>\n",
       "      <th>door</th>\n",
       "      <td>0.00</td>\n",
       "      <td>0.00</td>\n",
       "      <td>33.00</td>\n",
       "      <td>3.00</td>\n",
       "      <td>7.00</td>\n",
       "      <td>1.00</td>\n",
       "      <td>6.00</td>\n",
       "      <td>2.00</td>\n",
       "    </tr>\n",
       "    <tr>\n",
       "      <th>keyboard</th>\n",
       "      <td>1.00</td>\n",
       "      <td>1.00</td>\n",
       "      <td>1.00</td>\n",
       "      <td>29.00</td>\n",
       "      <td>0.00</td>\n",
       "      <td>0.00</td>\n",
       "      <td>0.00</td>\n",
       "      <td>0.00</td>\n",
       "    </tr>\n",
       "    <tr>\n",
       "      <th>knocking_door</th>\n",
       "      <td>0.00</td>\n",
       "      <td>0.00</td>\n",
       "      <td>0.00</td>\n",
       "      <td>0.00</td>\n",
       "      <td>43.00</td>\n",
       "      <td>0.00</td>\n",
       "      <td>2.00</td>\n",
       "      <td>1.00</td>\n",
       "    </tr>\n",
       "    <tr>\n",
       "      <th>ring</th>\n",
       "      <td>0.00</td>\n",
       "      <td>0.00</td>\n",
       "      <td>0.00</td>\n",
       "      <td>0.00</td>\n",
       "      <td>0.00</td>\n",
       "      <td>67.00</td>\n",
       "      <td>1.00</td>\n",
       "      <td>0.00</td>\n",
       "    </tr>\n",
       "    <tr>\n",
       "      <th>speech</th>\n",
       "      <td>0.00</td>\n",
       "      <td>0.00</td>\n",
       "      <td>2.00</td>\n",
       "      <td>0.00</td>\n",
       "      <td>4.00</td>\n",
       "      <td>0.00</td>\n",
       "      <td>123.00</td>\n",
       "      <td>0.00</td>\n",
       "    </tr>\n",
       "    <tr>\n",
       "      <th>tool</th>\n",
       "      <td>1.00</td>\n",
       "      <td>0.00</td>\n",
       "      <td>5.00</td>\n",
       "      <td>11.00</td>\n",
       "      <td>1.00</td>\n",
       "      <td>0.00</td>\n",
       "      <td>4.00</td>\n",
       "      <td>11.00</td>\n",
       "    </tr>\n",
       "    <tr>\n",
       "      <th>Total</th>\n",
       "      <td>41.00</td>\n",
       "      <td>50.00</td>\n",
       "      <td>49.00</td>\n",
       "      <td>47.00</td>\n",
       "      <td>59.00</td>\n",
       "      <td>72.00</td>\n",
       "      <td>141.00</td>\n",
       "      <td>14.00</td>\n",
       "    </tr>\n",
       "    <tr>\n",
       "      <th>Recall</th>\n",
       "      <td>0.95</td>\n",
       "      <td>0.98</td>\n",
       "      <td>0.67</td>\n",
       "      <td>0.62</td>\n",
       "      <td>0.73</td>\n",
       "      <td>0.93</td>\n",
       "      <td>0.87</td>\n",
       "      <td>0.79</td>\n",
       "    </tr>\n",
       "  </tbody>\n",
       "</table>\n",
       "</div>"
      ],
      "text/plain": [
       "                back   bags   door   keyb   knoc   ring    spee   tool\n",
       "background     39.00   0.00   4.00   0.00   4.00   4.00    5.00   0.00\n",
       "bags            0.00  49.00   4.00   4.00   0.00   0.00    0.00   0.00\n",
       "door            0.00   0.00  33.00   3.00   7.00   1.00    6.00   2.00\n",
       "keyboard        1.00   1.00   1.00  29.00   0.00   0.00    0.00   0.00\n",
       "knocking_door   0.00   0.00   0.00   0.00  43.00   0.00    2.00   1.00\n",
       "ring            0.00   0.00   0.00   0.00   0.00  67.00    1.00   0.00\n",
       "speech          0.00   0.00   2.00   0.00   4.00   0.00  123.00   0.00\n",
       "tool            1.00   0.00   5.00  11.00   1.00   0.00    4.00  11.00\n",
       "Total          41.00  50.00  49.00  47.00  59.00  72.00  141.00  14.00\n",
       "Recall          0.95   0.98   0.67   0.62   0.73   0.93    0.87   0.79"
      ]
     },
     "execution_count": 27,
     "metadata": {},
     "output_type": "execute_result"
    }
   ],
   "source": [
    "svc = SVC(C=10, kernel='rbf', gamma='auto', decision_function_shape='ovr', random_state=17, probability=True)\n",
    "svc.fit(X_scaled, y)\n",
    "svc_cls_open = svc.predict(X_test_open_scaled)\n",
    "svc_proba_open = svc.predict_proba(X_test_open_scaled)\n",
    "\n",
    "svc_cls_close = svc_cls_open[test_close_index]\n",
    "svc_proba_close = svc_proba_open[test_close_index]\n",
    "\n",
    "print(accuracy_score(y_test_close, svc_cls_close))\n",
    "svc_cfm = confusion_matrix(svc_cls_close, y_test_close)\n",
    "pd.DataFrame(np.vstack((svc_cfm, svc_cfm.sum(axis=0),\n",
    "                        [round(svc_cfm[i, i] / svc_cfm.sum(axis=0)[i], ndigits=2) for i in range(svc_cfm.shape[0])])),\n",
    "             index=list(d_class.keys())[:-1] + ['Total', 'Recall'],\n",
    "             columns=[str[:4] for str in list(d_class.keys())[:-1]])"
   ]
  },
  {
   "cell_type": "code",
   "execution_count": 28,
   "metadata": {},
   "outputs": [
    {
     "name": "stdout",
     "output_type": "stream",
     "text": [
      "0.858350951374\n"
     ]
    },
    {
     "data": {
      "text/html": [
       "<div>\n",
       "<style>\n",
       "    .dataframe thead tr:only-child th {\n",
       "        text-align: right;\n",
       "    }\n",
       "\n",
       "    .dataframe thead th {\n",
       "        text-align: left;\n",
       "    }\n",
       "\n",
       "    .dataframe tbody tr th {\n",
       "        vertical-align: top;\n",
       "    }\n",
       "</style>\n",
       "<table border=\"1\" class=\"dataframe\">\n",
       "  <thead>\n",
       "    <tr style=\"text-align: right;\">\n",
       "      <th></th>\n",
       "      <th>back</th>\n",
       "      <th>bags</th>\n",
       "      <th>door</th>\n",
       "      <th>keyb</th>\n",
       "      <th>knoc</th>\n",
       "      <th>ring</th>\n",
       "      <th>spee</th>\n",
       "      <th>tool</th>\n",
       "    </tr>\n",
       "  </thead>\n",
       "  <tbody>\n",
       "    <tr>\n",
       "      <th>background</th>\n",
       "      <td>32.00</td>\n",
       "      <td>0.00</td>\n",
       "      <td>2.00</td>\n",
       "      <td>0.00</td>\n",
       "      <td>2.00</td>\n",
       "      <td>2.00</td>\n",
       "      <td>2.00</td>\n",
       "      <td>0.00</td>\n",
       "    </tr>\n",
       "    <tr>\n",
       "      <th>bags</th>\n",
       "      <td>0.00</td>\n",
       "      <td>48.00</td>\n",
       "      <td>5.00</td>\n",
       "      <td>4.00</td>\n",
       "      <td>0.00</td>\n",
       "      <td>0.00</td>\n",
       "      <td>0.00</td>\n",
       "      <td>0.00</td>\n",
       "    </tr>\n",
       "    <tr>\n",
       "      <th>door</th>\n",
       "      <td>0.00</td>\n",
       "      <td>0.00</td>\n",
       "      <td>37.00</td>\n",
       "      <td>2.00</td>\n",
       "      <td>7.00</td>\n",
       "      <td>0.00</td>\n",
       "      <td>4.00</td>\n",
       "      <td>1.00</td>\n",
       "    </tr>\n",
       "    <tr>\n",
       "      <th>keyboard</th>\n",
       "      <td>1.00</td>\n",
       "      <td>1.00</td>\n",
       "      <td>1.00</td>\n",
       "      <td>30.00</td>\n",
       "      <td>0.00</td>\n",
       "      <td>0.00</td>\n",
       "      <td>0.00</td>\n",
       "      <td>0.00</td>\n",
       "    </tr>\n",
       "    <tr>\n",
       "      <th>knocking_door</th>\n",
       "      <td>0.00</td>\n",
       "      <td>0.00</td>\n",
       "      <td>0.00</td>\n",
       "      <td>0.00</td>\n",
       "      <td>48.00</td>\n",
       "      <td>0.00</td>\n",
       "      <td>2.00</td>\n",
       "      <td>0.00</td>\n",
       "    </tr>\n",
       "    <tr>\n",
       "      <th>ring</th>\n",
       "      <td>0.00</td>\n",
       "      <td>0.00</td>\n",
       "      <td>0.00</td>\n",
       "      <td>0.00</td>\n",
       "      <td>0.00</td>\n",
       "      <td>70.00</td>\n",
       "      <td>0.00</td>\n",
       "      <td>0.00</td>\n",
       "    </tr>\n",
       "    <tr>\n",
       "      <th>speech</th>\n",
       "      <td>1.00</td>\n",
       "      <td>0.00</td>\n",
       "      <td>1.00</td>\n",
       "      <td>0.00</td>\n",
       "      <td>1.00</td>\n",
       "      <td>0.00</td>\n",
       "      <td>128.00</td>\n",
       "      <td>0.00</td>\n",
       "    </tr>\n",
       "    <tr>\n",
       "      <th>tool</th>\n",
       "      <td>7.00</td>\n",
       "      <td>1.00</td>\n",
       "      <td>3.00</td>\n",
       "      <td>11.00</td>\n",
       "      <td>1.00</td>\n",
       "      <td>0.00</td>\n",
       "      <td>5.00</td>\n",
       "      <td>13.00</td>\n",
       "    </tr>\n",
       "    <tr>\n",
       "      <th>Total</th>\n",
       "      <td>41.00</td>\n",
       "      <td>50.00</td>\n",
       "      <td>49.00</td>\n",
       "      <td>47.00</td>\n",
       "      <td>59.00</td>\n",
       "      <td>72.00</td>\n",
       "      <td>141.00</td>\n",
       "      <td>14.00</td>\n",
       "    </tr>\n",
       "    <tr>\n",
       "      <th>Recall</th>\n",
       "      <td>0.78</td>\n",
       "      <td>0.96</td>\n",
       "      <td>0.76</td>\n",
       "      <td>0.64</td>\n",
       "      <td>0.81</td>\n",
       "      <td>0.97</td>\n",
       "      <td>0.91</td>\n",
       "      <td>0.93</td>\n",
       "    </tr>\n",
       "  </tbody>\n",
       "</table>\n",
       "</div>"
      ],
      "text/plain": [
       "                back   bags   door   keyb   knoc   ring    spee   tool\n",
       "background     32.00   0.00   2.00   0.00   2.00   2.00    2.00   0.00\n",
       "bags            0.00  48.00   5.00   4.00   0.00   0.00    0.00   0.00\n",
       "door            0.00   0.00  37.00   2.00   7.00   0.00    4.00   1.00\n",
       "keyboard        1.00   1.00   1.00  30.00   0.00   0.00    0.00   0.00\n",
       "knocking_door   0.00   0.00   0.00   0.00  48.00   0.00    2.00   0.00\n",
       "ring            0.00   0.00   0.00   0.00   0.00  70.00    0.00   0.00\n",
       "speech          1.00   0.00   1.00   0.00   1.00   0.00  128.00   0.00\n",
       "tool            7.00   1.00   3.00  11.00   1.00   0.00    5.00  13.00\n",
       "Total          41.00  50.00  49.00  47.00  59.00  72.00  141.00  14.00\n",
       "Recall          0.78   0.96   0.76   0.64   0.81   0.97    0.91   0.93"
      ]
     },
     "execution_count": 28,
     "metadata": {},
     "output_type": "execute_result"
    }
   ],
   "source": [
    "'''\n",
    "Хотел еще добавить бустинг (так как он тоже себя хорошо показал (0.7928 см. research)).\n",
    "Но времени на его обучение для solution уже не хватило\n",
    "Принятие решения должно было бы иметь вид:\n",
    "beta*(alpha*svc_proba + (1.0 - alpha)*rfc_proba) + (1.0 - beta)*gbc_proba\n",
    "'''\n",
    "alpha = 0.4\n",
    "proba_open = alpha*svc_proba_open + (1.0 - alpha)*rfc_proba_open\n",
    "cls_open = np.array([np.argmax(proba) for proba in proba_open])\n",
    "\n",
    "proba_close = proba_open[test_close_index]\n",
    "cls_close = cls_open[test_close_index]\n",
    "print(accuracy_score(y_test_close, cls_close))\n",
    "cfm_close = confusion_matrix(cls_close, y_test_close)\n",
    "pd.DataFrame(np.vstack((cfm_close, cfm_close.sum(axis=0),\n",
    "                        [round(cfm_close[i, i] / cfm_close.sum(axis=0)[i], ndigits=2) for i in range(cfm_close.shape[0])])),\n",
    "             index=list(d_class.keys())[:-1] + ['Total', 'Recall'],\n",
    "             columns=[str[:4] for str in list(d_class.keys())[:-1]])"
   ]
  },
  {
   "cell_type": "code",
   "execution_count": 29,
   "metadata": {
    "collapsed": true
   },
   "outputs": [],
   "source": [
    "df_result_close = pd.concat([(df_test_spec[test_close_index])['File'],\n",
    "                            pd.Series([np.max(proba) for proba in proba_close], name='Score'),\n",
    "                            pd.Series([d_class_inv[cls] for cls in cls_close], name='Class')], axis=1)\n",
    "df_result_close.to_csv('./result_close.txt', sep='\\t', header=False, index=False, float_format='%.3f')"
   ]
  },
  {
   "cell_type": "code",
   "execution_count": null,
   "metadata": {
    "collapsed": true
   },
   "outputs": [],
   "source": []
  },
  {
   "cell_type": "code",
   "execution_count": 30,
   "metadata": {},
   "outputs": [
    {
     "name": "stdout",
     "output_type": "stream",
     "text": [
      "threshold = 0.5658\n"
     ]
    }
   ],
   "source": [
    "'''\n",
    "Для открытой задачи классификации выберем порог\n",
    "соответствующий медиане оценки класса (score) для неправильно распознанных данных\n",
    "'''\n",
    "open_threshold = np.median(np.array([proba_close[i, cls] for i, cls in enumerate(cls_close)])[y_test_close != cls_close])\n",
    "print('threshold = %.4f' % open_threshold)"
   ]
  },
  {
   "cell_type": "code",
   "execution_count": 31,
   "metadata": {},
   "outputs": [
    {
     "name": "stdout",
     "output_type": "stream",
     "text": [
      "0.731147540984\n"
     ]
    },
    {
     "data": {
      "text/html": [
       "<div>\n",
       "<style>\n",
       "    .dataframe thead tr:only-child th {\n",
       "        text-align: right;\n",
       "    }\n",
       "\n",
       "    .dataframe thead th {\n",
       "        text-align: left;\n",
       "    }\n",
       "\n",
       "    .dataframe tbody tr th {\n",
       "        vertical-align: top;\n",
       "    }\n",
       "</style>\n",
       "<table border=\"1\" class=\"dataframe\">\n",
       "  <thead>\n",
       "    <tr style=\"text-align: right;\">\n",
       "      <th></th>\n",
       "      <th>back</th>\n",
       "      <th>bags</th>\n",
       "      <th>door</th>\n",
       "      <th>keyb</th>\n",
       "      <th>knoc</th>\n",
       "      <th>ring</th>\n",
       "      <th>spee</th>\n",
       "      <th>tool</th>\n",
       "      <th>unkn</th>\n",
       "    </tr>\n",
       "  </thead>\n",
       "  <tbody>\n",
       "    <tr>\n",
       "      <th>background</th>\n",
       "      <td>25.00</td>\n",
       "      <td>0.00</td>\n",
       "      <td>1.00</td>\n",
       "      <td>0.00</td>\n",
       "      <td>1.00</td>\n",
       "      <td>1.00</td>\n",
       "      <td>0.00</td>\n",
       "      <td>0.00</td>\n",
       "      <td>5.00</td>\n",
       "    </tr>\n",
       "    <tr>\n",
       "      <th>bags</th>\n",
       "      <td>0.00</td>\n",
       "      <td>39.00</td>\n",
       "      <td>2.00</td>\n",
       "      <td>2.00</td>\n",
       "      <td>0.00</td>\n",
       "      <td>0.00</td>\n",
       "      <td>0.00</td>\n",
       "      <td>0.00</td>\n",
       "      <td>0.00</td>\n",
       "    </tr>\n",
       "    <tr>\n",
       "      <th>door</th>\n",
       "      <td>0.00</td>\n",
       "      <td>0.00</td>\n",
       "      <td>24.00</td>\n",
       "      <td>1.00</td>\n",
       "      <td>2.00</td>\n",
       "      <td>0.00</td>\n",
       "      <td>3.00</td>\n",
       "      <td>0.00</td>\n",
       "      <td>8.00</td>\n",
       "    </tr>\n",
       "    <tr>\n",
       "      <th>keyboard</th>\n",
       "      <td>1.00</td>\n",
       "      <td>1.00</td>\n",
       "      <td>0.00</td>\n",
       "      <td>26.00</td>\n",
       "      <td>0.00</td>\n",
       "      <td>0.00</td>\n",
       "      <td>0.00</td>\n",
       "      <td>0.00</td>\n",
       "      <td>0.00</td>\n",
       "    </tr>\n",
       "    <tr>\n",
       "      <th>knocking_door</th>\n",
       "      <td>0.00</td>\n",
       "      <td>0.00</td>\n",
       "      <td>0.00</td>\n",
       "      <td>0.00</td>\n",
       "      <td>46.00</td>\n",
       "      <td>0.00</td>\n",
       "      <td>2.00</td>\n",
       "      <td>0.00</td>\n",
       "      <td>4.00</td>\n",
       "    </tr>\n",
       "    <tr>\n",
       "      <th>ring</th>\n",
       "      <td>0.00</td>\n",
       "      <td>0.00</td>\n",
       "      <td>0.00</td>\n",
       "      <td>0.00</td>\n",
       "      <td>0.00</td>\n",
       "      <td>66.00</td>\n",
       "      <td>0.00</td>\n",
       "      <td>0.00</td>\n",
       "      <td>6.00</td>\n",
       "    </tr>\n",
       "    <tr>\n",
       "      <th>speech</th>\n",
       "      <td>0.00</td>\n",
       "      <td>0.00</td>\n",
       "      <td>1.00</td>\n",
       "      <td>0.00</td>\n",
       "      <td>0.00</td>\n",
       "      <td>0.00</td>\n",
       "      <td>107.00</td>\n",
       "      <td>0.00</td>\n",
       "      <td>4.00</td>\n",
       "    </tr>\n",
       "    <tr>\n",
       "      <th>tool</th>\n",
       "      <td>4.00</td>\n",
       "      <td>0.00</td>\n",
       "      <td>2.00</td>\n",
       "      <td>8.00</td>\n",
       "      <td>0.00</td>\n",
       "      <td>0.00</td>\n",
       "      <td>2.00</td>\n",
       "      <td>12.00</td>\n",
       "      <td>9.00</td>\n",
       "    </tr>\n",
       "    <tr>\n",
       "      <th>unknown</th>\n",
       "      <td>11.00</td>\n",
       "      <td>10.00</td>\n",
       "      <td>19.00</td>\n",
       "      <td>10.00</td>\n",
       "      <td>10.00</td>\n",
       "      <td>5.00</td>\n",
       "      <td>27.00</td>\n",
       "      <td>2.00</td>\n",
       "      <td>101.00</td>\n",
       "    </tr>\n",
       "    <tr>\n",
       "      <th>Total</th>\n",
       "      <td>41.00</td>\n",
       "      <td>50.00</td>\n",
       "      <td>49.00</td>\n",
       "      <td>47.00</td>\n",
       "      <td>59.00</td>\n",
       "      <td>72.00</td>\n",
       "      <td>141.00</td>\n",
       "      <td>14.00</td>\n",
       "      <td>137.00</td>\n",
       "    </tr>\n",
       "    <tr>\n",
       "      <th>Recall</th>\n",
       "      <td>0.61</td>\n",
       "      <td>0.78</td>\n",
       "      <td>0.49</td>\n",
       "      <td>0.55</td>\n",
       "      <td>0.78</td>\n",
       "      <td>0.92</td>\n",
       "      <td>0.76</td>\n",
       "      <td>0.86</td>\n",
       "      <td>0.74</td>\n",
       "    </tr>\n",
       "  </tbody>\n",
       "</table>\n",
       "</div>"
      ],
      "text/plain": [
       "                back   bags   door   keyb   knoc   ring    spee   tool    unkn\n",
       "background     25.00   0.00   1.00   0.00   1.00   1.00    0.00   0.00    5.00\n",
       "bags            0.00  39.00   2.00   2.00   0.00   0.00    0.00   0.00    0.00\n",
       "door            0.00   0.00  24.00   1.00   2.00   0.00    3.00   0.00    8.00\n",
       "keyboard        1.00   1.00   0.00  26.00   0.00   0.00    0.00   0.00    0.00\n",
       "knocking_door   0.00   0.00   0.00   0.00  46.00   0.00    2.00   0.00    4.00\n",
       "ring            0.00   0.00   0.00   0.00   0.00  66.00    0.00   0.00    6.00\n",
       "speech          0.00   0.00   1.00   0.00   0.00   0.00  107.00   0.00    4.00\n",
       "tool            4.00   0.00   2.00   8.00   0.00   0.00    2.00  12.00    9.00\n",
       "unknown        11.00  10.00  19.00  10.00  10.00   5.00   27.00   2.00  101.00\n",
       "Total          41.00  50.00  49.00  47.00  59.00  72.00  141.00  14.00  137.00\n",
       "Recall          0.61   0.78   0.49   0.55   0.78   0.92    0.76   0.86    0.74"
      ]
     },
     "execution_count": 31,
     "metadata": {},
     "output_type": "execute_result"
    }
   ],
   "source": [
    "cls_open[[np.max(proba) for proba in proba_open] < open_threshold] = d_class['unknown']\n",
    "\n",
    "print(accuracy_score(y_test_open, cls_open))\n",
    "cfm_open = confusion_matrix(cls_open, y_test_open)\n",
    "pd.DataFrame(np.vstack((cfm_open, cfm_open.sum(axis=0),\n",
    "                        [round(cfm_open[i, i] / cfm_open.sum(axis=0)[i], ndigits=2) for i in range(cfm_open.shape[0])])),\n",
    "             index=list(d_class.keys()) + ['Total', 'Recall'],\n",
    "             columns=[str[:4] for str in list(d_class.keys())])"
   ]
  },
  {
   "cell_type": "code",
   "execution_count": 32,
   "metadata": {
    "collapsed": true
   },
   "outputs": [],
   "source": [
    "df_result_open = pd.concat([df_test_spec['File'],\n",
    "                             pd.Series([np.max(proba) for proba in proba_open], name='Score'),\n",
    "                             pd.Series([d_class_inv[cls] for cls in cls_open], name='Class')], axis=1)\n",
    "df_result_open.to_csv('./result_open.txt', sep='\\t', header=False, index=False, float_format='%.3f')"
   ]
  },
  {
   "cell_type": "code",
   "execution_count": null,
   "metadata": {
    "collapsed": true
   },
   "outputs": [],
   "source": []
  }
 ],
 "metadata": {
  "kernelspec": {
   "display_name": "Python 3",
   "language": "python",
   "name": "python3"
  },
  "language_info": {
   "codemirror_mode": {
    "name": "ipython",
    "version": 3
   },
   "file_extension": ".py",
   "mimetype": "text/x-python",
   "name": "python",
   "nbconvert_exporter": "python",
   "pygments_lexer": "ipython3",
   "version": "3.6.3"
  }
 },
 "nbformat": 4,
 "nbformat_minor": 2
}
